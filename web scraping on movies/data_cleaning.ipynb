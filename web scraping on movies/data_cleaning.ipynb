{
 "cells": [
  {
   "cell_type": "code",
   "execution_count": 94,
   "metadata": {},
   "outputs": [],
   "source": [
    "import pandas as pd\n",
    "import numpy as np\n",
    "import matplotlib.pyplot as plt\n",
    "import seaborn as sns"
   ]
  },
  {
   "cell_type": "code",
   "execution_count": 119,
   "metadata": {},
   "outputs": [
    {
     "data": {
      "text/html": [
       "<div>\n",
       "<style scoped>\n",
       "    .dataframe tbody tr th:only-of-type {\n",
       "        vertical-align: middle;\n",
       "    }\n",
       "\n",
       "    .dataframe tbody tr th {\n",
       "        vertical-align: top;\n",
       "    }\n",
       "\n",
       "    .dataframe thead th {\n",
       "        text-align: right;\n",
       "    }\n",
       "</style>\n",
       "<table border=\"1\" class=\"dataframe\">\n",
       "  <thead>\n",
       "    <tr style=\"text-align: right;\">\n",
       "      <th></th>\n",
       "      <th>Unnamed: 0</th>\n",
       "      <th>Title</th>\n",
       "      <th>Release_year</th>\n",
       "      <th>Certificate</th>\n",
       "      <th>Rating</th>\n",
       "      <th>Runtime(min)</th>\n",
       "      <th>Genre</th>\n",
       "      <th>Metascore</th>\n",
       "      <th>Director</th>\n",
       "      <th>Stars</th>\n",
       "      <th>Votes</th>\n",
       "      <th>Gross($)</th>\n",
       "    </tr>\n",
       "  </thead>\n",
       "  <tbody>\n",
       "    <tr>\n",
       "      <td>0</td>\n",
       "      <td>0</td>\n",
       "      <td>Avatar</td>\n",
       "      <td>2009</td>\n",
       "      <td>UA</td>\n",
       "      <td>7.9</td>\n",
       "      <td>162 min</td>\n",
       "      <td>Action</td>\n",
       "      <td>83.0</td>\n",
       "      <td>James Cameron</td>\n",
       "      <td>Sam Worthington,</td>\n",
       "      <td>13,58,528</td>\n",
       "      <td>2,92,37,06,026</td>\n",
       "    </tr>\n",
       "    <tr>\n",
       "      <td>1</td>\n",
       "      <td>1</td>\n",
       "      <td>Avengers: Endgame</td>\n",
       "      <td>2019</td>\n",
       "      <td>UA</td>\n",
       "      <td>8.4</td>\n",
       "      <td>181 min</td>\n",
       "      <td>Action</td>\n",
       "      <td>78.0</td>\n",
       "      <td>Anthony Russo,</td>\n",
       "      <td>Robert Downey Jr.,</td>\n",
       "      <td>12,08,382</td>\n",
       "      <td>2,79,94,39,100</td>\n",
       "    </tr>\n",
       "    <tr>\n",
       "      <td>2</td>\n",
       "      <td>2</td>\n",
       "      <td>Avatar: The Way of Water</td>\n",
       "      <td>2022</td>\n",
       "      <td>UA</td>\n",
       "      <td>7.6</td>\n",
       "      <td>192 min</td>\n",
       "      <td>Action</td>\n",
       "      <td>67.0</td>\n",
       "      <td>James Cameron</td>\n",
       "      <td>Sam Worthington,</td>\n",
       "      <td>4,52,123</td>\n",
       "      <td>2,32,02,50,281</td>\n",
       "    </tr>\n",
       "    <tr>\n",
       "      <td>3</td>\n",
       "      <td>3</td>\n",
       "      <td>Titanic</td>\n",
       "      <td>1997</td>\n",
       "      <td>UA</td>\n",
       "      <td>7.9</td>\n",
       "      <td>194 min</td>\n",
       "      <td>Drama</td>\n",
       "      <td>75.0</td>\n",
       "      <td>James Cameron</td>\n",
       "      <td>Leonardo DiCaprio,</td>\n",
       "      <td>12,43,407</td>\n",
       "      <td>2,26,47,43,305</td>\n",
       "    </tr>\n",
       "    <tr>\n",
       "      <td>4</td>\n",
       "      <td>4</td>\n",
       "      <td>Star Wars: Episode VII - The Force Awakens</td>\n",
       "      <td>2015</td>\n",
       "      <td>U</td>\n",
       "      <td>7.8</td>\n",
       "      <td>138 min</td>\n",
       "      <td>Action</td>\n",
       "      <td>80.0</td>\n",
       "      <td>J.J. Abrams</td>\n",
       "      <td>Daisy Ridley,</td>\n",
       "      <td>9,54,781</td>\n",
       "      <td>2,07,13,10,218</td>\n",
       "    </tr>\n",
       "  </tbody>\n",
       "</table>\n",
       "</div>"
      ],
      "text/plain": [
       "   Unnamed: 0                                       Title  Release_year  \\\n",
       "0           0                                      Avatar          2009   \n",
       "1           1                           Avengers: Endgame          2019   \n",
       "2           2                    Avatar: The Way of Water          2022   \n",
       "3           3                                     Titanic          1997   \n",
       "4           4  Star Wars: Episode VII - The Force Awakens          2015   \n",
       "\n",
       "  Certificate  Rating Runtime(min)   Genre  Metascore         Director  \\\n",
       "0          UA     7.9      162 min  Action       83.0    James Cameron   \n",
       "1          UA     8.4      181 min  Action       78.0  Anthony Russo,    \n",
       "2          UA     7.6      192 min  Action       67.0    James Cameron   \n",
       "3          UA     7.9      194 min   Drama       75.0    James Cameron   \n",
       "4           U     7.8      138 min  Action       80.0      J.J. Abrams   \n",
       "\n",
       "                 Stars      Votes        Gross($)  \n",
       "0    Sam Worthington,   13,58,528  2,92,37,06,026  \n",
       "1  Robert Downey Jr.,   12,08,382  2,79,94,39,100  \n",
       "2    Sam Worthington,    4,52,123  2,32,02,50,281  \n",
       "3  Leonardo DiCaprio,   12,43,407  2,26,47,43,305  \n",
       "4       Daisy Ridley,    9,54,781  2,07,13,10,218  "
      ]
     },
     "execution_count": 119,
     "metadata": {},
     "output_type": "execute_result"
    }
   ],
   "source": [
    "df=pd.read_csv(\"Imdb_movies.csv\")\n",
    "df.head(5)"
   ]
  },
  {
   "cell_type": "code",
   "execution_count": 120,
   "metadata": {},
   "outputs": [],
   "source": [
    "df.drop([\"Unnamed: 0\"],axis=1,inplace=True)"
   ]
  },
  {
   "cell_type": "code",
   "execution_count": 121,
   "metadata": {},
   "outputs": [
    {
     "data": {
      "text/html": [
       "<div>\n",
       "<style scoped>\n",
       "    .dataframe tbody tr th:only-of-type {\n",
       "        vertical-align: middle;\n",
       "    }\n",
       "\n",
       "    .dataframe tbody tr th {\n",
       "        vertical-align: top;\n",
       "    }\n",
       "\n",
       "    .dataframe thead th {\n",
       "        text-align: right;\n",
       "    }\n",
       "</style>\n",
       "<table border=\"1\" class=\"dataframe\">\n",
       "  <thead>\n",
       "    <tr style=\"text-align: right;\">\n",
       "      <th></th>\n",
       "      <th>Title</th>\n",
       "      <th>Release_year</th>\n",
       "      <th>Certificate</th>\n",
       "      <th>Rating</th>\n",
       "      <th>Runtime(min)</th>\n",
       "      <th>Genre</th>\n",
       "      <th>Metascore</th>\n",
       "      <th>Director</th>\n",
       "      <th>Stars</th>\n",
       "      <th>Votes</th>\n",
       "      <th>Gross($)</th>\n",
       "    </tr>\n",
       "  </thead>\n",
       "  <tbody>\n",
       "    <tr>\n",
       "      <td>0</td>\n",
       "      <td>Avatar</td>\n",
       "      <td>2009</td>\n",
       "      <td>UA</td>\n",
       "      <td>7.9</td>\n",
       "      <td>162 min</td>\n",
       "      <td>Action</td>\n",
       "      <td>83.0</td>\n",
       "      <td>James Cameron</td>\n",
       "      <td>Sam Worthington,</td>\n",
       "      <td>13,58,528</td>\n",
       "      <td>2,92,37,06,026</td>\n",
       "    </tr>\n",
       "    <tr>\n",
       "      <td>1</td>\n",
       "      <td>Avengers: Endgame</td>\n",
       "      <td>2019</td>\n",
       "      <td>UA</td>\n",
       "      <td>8.4</td>\n",
       "      <td>181 min</td>\n",
       "      <td>Action</td>\n",
       "      <td>78.0</td>\n",
       "      <td>Anthony Russo,</td>\n",
       "      <td>Robert Downey Jr.,</td>\n",
       "      <td>12,08,382</td>\n",
       "      <td>2,79,94,39,100</td>\n",
       "    </tr>\n",
       "    <tr>\n",
       "      <td>2</td>\n",
       "      <td>Avatar: The Way of Water</td>\n",
       "      <td>2022</td>\n",
       "      <td>UA</td>\n",
       "      <td>7.6</td>\n",
       "      <td>192 min</td>\n",
       "      <td>Action</td>\n",
       "      <td>67.0</td>\n",
       "      <td>James Cameron</td>\n",
       "      <td>Sam Worthington,</td>\n",
       "      <td>4,52,123</td>\n",
       "      <td>2,32,02,50,281</td>\n",
       "    </tr>\n",
       "    <tr>\n",
       "      <td>3</td>\n",
       "      <td>Titanic</td>\n",
       "      <td>1997</td>\n",
       "      <td>UA</td>\n",
       "      <td>7.9</td>\n",
       "      <td>194 min</td>\n",
       "      <td>Drama</td>\n",
       "      <td>75.0</td>\n",
       "      <td>James Cameron</td>\n",
       "      <td>Leonardo DiCaprio,</td>\n",
       "      <td>12,43,407</td>\n",
       "      <td>2,26,47,43,305</td>\n",
       "    </tr>\n",
       "    <tr>\n",
       "      <td>4</td>\n",
       "      <td>Star Wars: Episode VII - The Force Awakens</td>\n",
       "      <td>2015</td>\n",
       "      <td>U</td>\n",
       "      <td>7.8</td>\n",
       "      <td>138 min</td>\n",
       "      <td>Action</td>\n",
       "      <td>80.0</td>\n",
       "      <td>J.J. Abrams</td>\n",
       "      <td>Daisy Ridley,</td>\n",
       "      <td>9,54,781</td>\n",
       "      <td>2,07,13,10,218</td>\n",
       "    </tr>\n",
       "  </tbody>\n",
       "</table>\n",
       "</div>"
      ],
      "text/plain": [
       "                                        Title  Release_year Certificate  \\\n",
       "0                                      Avatar          2009          UA   \n",
       "1                           Avengers: Endgame          2019          UA   \n",
       "2                    Avatar: The Way of Water          2022          UA   \n",
       "3                                     Titanic          1997          UA   \n",
       "4  Star Wars: Episode VII - The Force Awakens          2015           U   \n",
       "\n",
       "   Rating Runtime(min)   Genre  Metascore         Director  \\\n",
       "0     7.9      162 min  Action       83.0    James Cameron   \n",
       "1     8.4      181 min  Action       78.0  Anthony Russo,    \n",
       "2     7.6      192 min  Action       67.0    James Cameron   \n",
       "3     7.9      194 min   Drama       75.0    James Cameron   \n",
       "4     7.8      138 min  Action       80.0      J.J. Abrams   \n",
       "\n",
       "                 Stars      Votes        Gross($)  \n",
       "0    Sam Worthington,   13,58,528  2,92,37,06,026  \n",
       "1  Robert Downey Jr.,   12,08,382  2,79,94,39,100  \n",
       "2    Sam Worthington,    4,52,123  2,32,02,50,281  \n",
       "3  Leonardo DiCaprio,   12,43,407  2,26,47,43,305  \n",
       "4       Daisy Ridley,    9,54,781  2,07,13,10,218  "
      ]
     },
     "execution_count": 121,
     "metadata": {},
     "output_type": "execute_result"
    }
   ],
   "source": [
    "df.head(5)"
   ]
  },
  {
   "cell_type": "code",
   "execution_count": 122,
   "metadata": {},
   "outputs": [
    {
     "data": {
      "text/plain": [
       "Title            0\n",
       "Release_year     0\n",
       "Certificate     50\n",
       "Rating           0\n",
       "Runtime(min)     0\n",
       "Genre            0\n",
       "Metascore       38\n",
       "Director         0\n",
       "Stars            0\n",
       "Votes            0\n",
       "Gross($)         0\n",
       "dtype: int64"
      ]
     },
     "execution_count": 122,
     "metadata": {},
     "output_type": "execute_result"
    }
   ],
   "source": [
    "df.isnull().sum()"
   ]
  },
  {
   "cell_type": "code",
   "execution_count": 123,
   "metadata": {},
   "outputs": [],
   "source": [
    "df.dropna(how=\"any\",axis=0,inplace=True)"
   ]
  },
  {
   "cell_type": "code",
   "execution_count": 124,
   "metadata": {},
   "outputs": [
    {
     "data": {
      "text/html": [
       "<div>\n",
       "<style scoped>\n",
       "    .dataframe tbody tr th:only-of-type {\n",
       "        vertical-align: middle;\n",
       "    }\n",
       "\n",
       "    .dataframe tbody tr th {\n",
       "        vertical-align: top;\n",
       "    }\n",
       "\n",
       "    .dataframe thead th {\n",
       "        text-align: right;\n",
       "    }\n",
       "</style>\n",
       "<table border=\"1\" class=\"dataframe\">\n",
       "  <thead>\n",
       "    <tr style=\"text-align: right;\">\n",
       "      <th></th>\n",
       "      <th>Title</th>\n",
       "      <th>Release_year</th>\n",
       "      <th>Certificate</th>\n",
       "      <th>Rating</th>\n",
       "      <th>Runtime(min)</th>\n",
       "      <th>Genre</th>\n",
       "      <th>Metascore</th>\n",
       "      <th>Director</th>\n",
       "      <th>Stars</th>\n",
       "      <th>Votes</th>\n",
       "      <th>Gross($)</th>\n",
       "    </tr>\n",
       "  </thead>\n",
       "  <tbody>\n",
       "    <tr>\n",
       "      <td>0</td>\n",
       "      <td>Avatar</td>\n",
       "      <td>2009</td>\n",
       "      <td>UA</td>\n",
       "      <td>7.9</td>\n",
       "      <td>162 min</td>\n",
       "      <td>Action</td>\n",
       "      <td>83.0</td>\n",
       "      <td>James Cameron</td>\n",
       "      <td>Sam Worthington,</td>\n",
       "      <td>13,58,528</td>\n",
       "      <td>2,92,37,06,026</td>\n",
       "    </tr>\n",
       "    <tr>\n",
       "      <td>1</td>\n",
       "      <td>Avengers: Endgame</td>\n",
       "      <td>2019</td>\n",
       "      <td>UA</td>\n",
       "      <td>8.4</td>\n",
       "      <td>181 min</td>\n",
       "      <td>Action</td>\n",
       "      <td>78.0</td>\n",
       "      <td>Anthony Russo,</td>\n",
       "      <td>Robert Downey Jr.,</td>\n",
       "      <td>12,08,382</td>\n",
       "      <td>2,79,94,39,100</td>\n",
       "    </tr>\n",
       "  </tbody>\n",
       "</table>\n",
       "</div>"
      ],
      "text/plain": [
       "               Title  Release_year Certificate  Rating Runtime(min)   Genre  \\\n",
       "0             Avatar          2009          UA     7.9      162 min  Action   \n",
       "1  Avengers: Endgame          2019          UA     8.4      181 min  Action   \n",
       "\n",
       "   Metascore         Director                Stars      Votes        Gross($)  \n",
       "0       83.0    James Cameron    Sam Worthington,   13,58,528  2,92,37,06,026  \n",
       "1       78.0  Anthony Russo,   Robert Downey Jr.,   12,08,382  2,79,94,39,100  "
      ]
     },
     "execution_count": 124,
     "metadata": {},
     "output_type": "execute_result"
    }
   ],
   "source": [
    "df.head(2)"
   ]
  },
  {
   "cell_type": "code",
   "execution_count": 125,
   "metadata": {},
   "outputs": [
    {
     "data": {
      "text/plain": [
       "Title           0\n",
       "Release_year    0\n",
       "Certificate     0\n",
       "Rating          0\n",
       "Runtime(min)    0\n",
       "Genre           0\n",
       "Metascore       0\n",
       "Director        0\n",
       "Stars           0\n",
       "Votes           0\n",
       "Gross($)        0\n",
       "dtype: int64"
      ]
     },
     "execution_count": 125,
     "metadata": {},
     "output_type": "execute_result"
    }
   ],
   "source": [
    "df.isnull().sum()"
   ]
  },
  {
   "cell_type": "code",
   "execution_count": 126,
   "metadata": {},
   "outputs": [
    {
     "data": {
      "text/plain": [
       "Title            object\n",
       "Release_year      int64\n",
       "Certificate      object\n",
       "Rating          float64\n",
       "Runtime(min)     object\n",
       "Genre            object\n",
       "Metascore       float64\n",
       "Director         object\n",
       "Stars            object\n",
       "Votes            object\n",
       "Gross($)         object\n",
       "dtype: object"
      ]
     },
     "execution_count": 126,
     "metadata": {},
     "output_type": "execute_result"
    }
   ],
   "source": [
    "df.dtypes"
   ]
  },
  {
   "cell_type": "code",
   "execution_count": 127,
   "metadata": {},
   "outputs": [],
   "source": [
    "# Convert Votes and Gross into integers"
   ]
  },
  {
   "cell_type": "code",
   "execution_count": 128,
   "metadata": {},
   "outputs": [
    {
     "data": {
      "text/plain": [
       "0      13,58,528\n",
       "1      12,08,382\n",
       "2       4,52,123\n",
       "3      12,43,407\n",
       "4       9,54,781\n",
       "         ...    \n",
       "994     1,29,090\n",
       "995     2,25,522\n",
       "997     1,79,069\n",
       "998     1,92,304\n",
       "999     1,41,094\n",
       "Name: Votes, Length: 943, dtype: object"
      ]
     },
     "execution_count": 128,
     "metadata": {},
     "output_type": "execute_result"
    }
   ],
   "source": [
    "df.Votes"
   ]
  },
  {
   "cell_type": "code",
   "execution_count": 129,
   "metadata": {},
   "outputs": [],
   "source": [
    "No_Votes=[]\n",
    "for i in df.Votes:\n",
    "    a=i.replace(\",\",\"\")\n",
    "    No_Votes.append(int(a))"
   ]
  },
  {
   "cell_type": "code",
   "execution_count": 130,
   "metadata": {},
   "outputs": [
    {
     "data": {
      "text/plain": [
       "943"
      ]
     },
     "execution_count": 130,
     "metadata": {},
     "output_type": "execute_result"
    }
   ],
   "source": [
    "len(No_Votes)"
   ]
  },
  {
   "cell_type": "code",
   "execution_count": null,
   "metadata": {},
   "outputs": [],
   "source": []
  },
  {
   "cell_type": "code",
   "execution_count": 131,
   "metadata": {},
   "outputs": [],
   "source": [
    "Gross=[]\n",
    "for i in df[\"Gross($)\"]:\n",
    "    a=i.replace(\",\",\"\")\n",
    "    Gross.append(int(a))"
   ]
  },
  {
   "cell_type": "code",
   "execution_count": 132,
   "metadata": {},
   "outputs": [
    {
     "data": {
      "text/plain": [
       "943"
      ]
     },
     "execution_count": 132,
     "metadata": {},
     "output_type": "execute_result"
    }
   ],
   "source": [
    "len(Gross)"
   ]
  },
  {
   "cell_type": "code",
   "execution_count": 133,
   "metadata": {},
   "outputs": [],
   "source": [
    "df[\"No_Votes\"]=No_Votes\n",
    "df[\"Gross\"]=Gross"
   ]
  },
  {
   "cell_type": "code",
   "execution_count": 134,
   "metadata": {},
   "outputs": [],
   "source": [
    "df.drop([\"Votes\",\"Gross($)\"],axis=1,inplace=True)"
   ]
  },
  {
   "cell_type": "code",
   "execution_count": 135,
   "metadata": {},
   "outputs": [],
   "source": [
    "# Change the Gross column name into Gross($)\n",
    "df.rename(columns={\"Gross\":\"Gross($)\"},inplace=True)"
   ]
  },
  {
   "cell_type": "code",
   "execution_count": 136,
   "metadata": {},
   "outputs": [
    {
     "data": {
      "text/html": [
       "<div>\n",
       "<style scoped>\n",
       "    .dataframe tbody tr th:only-of-type {\n",
       "        vertical-align: middle;\n",
       "    }\n",
       "\n",
       "    .dataframe tbody tr th {\n",
       "        vertical-align: top;\n",
       "    }\n",
       "\n",
       "    .dataframe thead th {\n",
       "        text-align: right;\n",
       "    }\n",
       "</style>\n",
       "<table border=\"1\" class=\"dataframe\">\n",
       "  <thead>\n",
       "    <tr style=\"text-align: right;\">\n",
       "      <th></th>\n",
       "      <th>Title</th>\n",
       "      <th>Release_year</th>\n",
       "      <th>Certificate</th>\n",
       "      <th>Rating</th>\n",
       "      <th>Runtime(min)</th>\n",
       "      <th>Genre</th>\n",
       "      <th>Metascore</th>\n",
       "      <th>Director</th>\n",
       "      <th>Stars</th>\n",
       "      <th>No_Votes</th>\n",
       "      <th>Gross($)</th>\n",
       "    </tr>\n",
       "  </thead>\n",
       "  <tbody>\n",
       "    <tr>\n",
       "      <td>0</td>\n",
       "      <td>Avatar</td>\n",
       "      <td>2009</td>\n",
       "      <td>UA</td>\n",
       "      <td>7.9</td>\n",
       "      <td>162 min</td>\n",
       "      <td>Action</td>\n",
       "      <td>83.0</td>\n",
       "      <td>James Cameron</td>\n",
       "      <td>Sam Worthington,</td>\n",
       "      <td>1358528</td>\n",
       "      <td>2923706026</td>\n",
       "    </tr>\n",
       "    <tr>\n",
       "      <td>1</td>\n",
       "      <td>Avengers: Endgame</td>\n",
       "      <td>2019</td>\n",
       "      <td>UA</td>\n",
       "      <td>8.4</td>\n",
       "      <td>181 min</td>\n",
       "      <td>Action</td>\n",
       "      <td>78.0</td>\n",
       "      <td>Anthony Russo,</td>\n",
       "      <td>Robert Downey Jr.,</td>\n",
       "      <td>1208382</td>\n",
       "      <td>2799439100</td>\n",
       "    </tr>\n",
       "    <tr>\n",
       "      <td>2</td>\n",
       "      <td>Avatar: The Way of Water</td>\n",
       "      <td>2022</td>\n",
       "      <td>UA</td>\n",
       "      <td>7.6</td>\n",
       "      <td>192 min</td>\n",
       "      <td>Action</td>\n",
       "      <td>67.0</td>\n",
       "      <td>James Cameron</td>\n",
       "      <td>Sam Worthington,</td>\n",
       "      <td>452123</td>\n",
       "      <td>2320250281</td>\n",
       "    </tr>\n",
       "  </tbody>\n",
       "</table>\n",
       "</div>"
      ],
      "text/plain": [
       "                      Title  Release_year Certificate  Rating Runtime(min)  \\\n",
       "0                    Avatar          2009          UA     7.9      162 min   \n",
       "1         Avengers: Endgame          2019          UA     8.4      181 min   \n",
       "2  Avatar: The Way of Water          2022          UA     7.6      192 min   \n",
       "\n",
       "    Genre  Metascore         Director                Stars  No_Votes  \\\n",
       "0  Action       83.0    James Cameron    Sam Worthington,    1358528   \n",
       "1  Action       78.0  Anthony Russo,   Robert Downey Jr.,    1208382   \n",
       "2  Action       67.0    James Cameron    Sam Worthington,     452123   \n",
       "\n",
       "     Gross($)  \n",
       "0  2923706026  \n",
       "1  2799439100  \n",
       "2  2320250281  "
      ]
     },
     "execution_count": 136,
     "metadata": {},
     "output_type": "execute_result"
    }
   ],
   "source": [
    "df.head(3)"
   ]
  },
  {
   "cell_type": "code",
   "execution_count": 139,
   "metadata": {},
   "outputs": [],
   "source": [
    "# Convert Runtime type into int\n",
    "Run_time=[]\n",
    "for i in df[\"Runtime(min)\"]:\n",
    "    a=i.replace(\"min\",\"\")\n",
    "    Run_time.append(int(a))\n",
    "   "
   ]
  },
  {
   "cell_type": "code",
   "execution_count": 143,
   "metadata": {},
   "outputs": [],
   "source": [
    "df[\"Run_Time(min)\"]=Run_time"
   ]
  },
  {
   "cell_type": "code",
   "execution_count": 145,
   "metadata": {},
   "outputs": [],
   "source": [
    "df.drop([\"Runtime(min)\"],axis=1,inplace=True)"
   ]
  },
  {
   "cell_type": "code",
   "execution_count": 146,
   "metadata": {},
   "outputs": [
    {
     "data": {
      "text/html": [
       "<div>\n",
       "<style scoped>\n",
       "    .dataframe tbody tr th:only-of-type {\n",
       "        vertical-align: middle;\n",
       "    }\n",
       "\n",
       "    .dataframe tbody tr th {\n",
       "        vertical-align: top;\n",
       "    }\n",
       "\n",
       "    .dataframe thead th {\n",
       "        text-align: right;\n",
       "    }\n",
       "</style>\n",
       "<table border=\"1\" class=\"dataframe\">\n",
       "  <thead>\n",
       "    <tr style=\"text-align: right;\">\n",
       "      <th></th>\n",
       "      <th>Title</th>\n",
       "      <th>Release_year</th>\n",
       "      <th>Certificate</th>\n",
       "      <th>Rating</th>\n",
       "      <th>Genre</th>\n",
       "      <th>Metascore</th>\n",
       "      <th>Director</th>\n",
       "      <th>Stars</th>\n",
       "      <th>No_Votes</th>\n",
       "      <th>Gross($)</th>\n",
       "      <th>Run_Time(min)</th>\n",
       "    </tr>\n",
       "  </thead>\n",
       "  <tbody>\n",
       "    <tr>\n",
       "      <td>0</td>\n",
       "      <td>Avatar</td>\n",
       "      <td>2009</td>\n",
       "      <td>UA</td>\n",
       "      <td>7.9</td>\n",
       "      <td>Action</td>\n",
       "      <td>83.0</td>\n",
       "      <td>James Cameron</td>\n",
       "      <td>Sam Worthington,</td>\n",
       "      <td>1358528</td>\n",
       "      <td>2923706026</td>\n",
       "      <td>162</td>\n",
       "    </tr>\n",
       "    <tr>\n",
       "      <td>1</td>\n",
       "      <td>Avengers: Endgame</td>\n",
       "      <td>2019</td>\n",
       "      <td>UA</td>\n",
       "      <td>8.4</td>\n",
       "      <td>Action</td>\n",
       "      <td>78.0</td>\n",
       "      <td>Anthony Russo,</td>\n",
       "      <td>Robert Downey Jr.,</td>\n",
       "      <td>1208382</td>\n",
       "      <td>2799439100</td>\n",
       "      <td>181</td>\n",
       "    </tr>\n",
       "  </tbody>\n",
       "</table>\n",
       "</div>"
      ],
      "text/plain": [
       "               Title  Release_year Certificate  Rating   Genre  Metascore  \\\n",
       "0             Avatar          2009          UA     7.9  Action       83.0   \n",
       "1  Avengers: Endgame          2019          UA     8.4  Action       78.0   \n",
       "\n",
       "          Director                Stars  No_Votes    Gross($)  Run_Time(min)  \n",
       "0    James Cameron    Sam Worthington,    1358528  2923706026            162  \n",
       "1  Anthony Russo,   Robert Downey Jr.,    1208382  2799439100            181  "
      ]
     },
     "execution_count": 146,
     "metadata": {},
     "output_type": "execute_result"
    }
   ],
   "source": [
    "df.head(2)"
   ]
  },
  {
   "cell_type": "code",
   "execution_count": 147,
   "metadata": {},
   "outputs": [
    {
     "data": {
      "text/plain": [
       "Title             object\n",
       "Release_year       int64\n",
       "Certificate       object\n",
       "Rating           float64\n",
       "Genre             object\n",
       "Metascore        float64\n",
       "Director          object\n",
       "Stars             object\n",
       "No_Votes           int64\n",
       "Gross($)           int64\n",
       "Run_Time(min)      int64\n",
       "dtype: object"
      ]
     },
     "execution_count": 147,
     "metadata": {},
     "output_type": "execute_result"
    }
   ],
   "source": [
    "df.dtypes"
   ]
  },
  {
   "cell_type": "code",
   "execution_count": 149,
   "metadata": {},
   "outputs": [
    {
     "data": {
      "text/html": [
       "<div>\n",
       "<style scoped>\n",
       "    .dataframe tbody tr th:only-of-type {\n",
       "        vertical-align: middle;\n",
       "    }\n",
       "\n",
       "    .dataframe tbody tr th {\n",
       "        vertical-align: top;\n",
       "    }\n",
       "\n",
       "    .dataframe thead th {\n",
       "        text-align: right;\n",
       "    }\n",
       "</style>\n",
       "<table border=\"1\" class=\"dataframe\">\n",
       "  <thead>\n",
       "    <tr style=\"text-align: right;\">\n",
       "      <th></th>\n",
       "      <th>Title</th>\n",
       "      <th>Release_year</th>\n",
       "      <th>Certificate</th>\n",
       "      <th>Rating</th>\n",
       "      <th>Genre</th>\n",
       "      <th>Metascore</th>\n",
       "      <th>Director</th>\n",
       "      <th>Stars</th>\n",
       "      <th>No_Votes</th>\n",
       "      <th>Gross($)</th>\n",
       "      <th>Run_Time(min)</th>\n",
       "    </tr>\n",
       "  </thead>\n",
       "  <tbody>\n",
       "  </tbody>\n",
       "</table>\n",
       "</div>"
      ],
      "text/plain": [
       "Empty DataFrame\n",
       "Columns: [Title, Release_year, Certificate, Rating, Genre, Metascore, Director, Stars, No_Votes, Gross($), Run_Time(min)]\n",
       "Index: []"
      ]
     },
     "execution_count": 149,
     "metadata": {},
     "output_type": "execute_result"
    }
   ],
   "source": [
    "# find duplicate values if exist.\n",
    "df.loc[df.duplicated(keep=\"first\"),:] #There is no duplicated values. "
   ]
  },
  {
   "cell_type": "code",
   "execution_count": 152,
   "metadata": {},
   "outputs": [
    {
     "data": {
      "text/plain": [
       "array([2009, 2019, 2022, 1997, 2015, 2018, 2021, 2012, 2011, 2023, 2017,\n",
       "       2013, 2016, 2003, 1993, 2014, 2010, 2006, 1999, 2001, 2008, 1994,\n",
       "       2007, 2002, 2004, 2005, 1996, 1982, 1977, 1998, 2000, 1980, 1991,\n",
       "       1990, 1992, 1975, 1983, 1989, 2020, 1973, 1939, 1978, 1995, 1981,\n",
       "       1985, 1986, 1988, 1984, 1987, 1942, 1972, 1961, 1979, 1967, 1937],\n",
       "      dtype=int64)"
      ]
     },
     "execution_count": 152,
     "metadata": {},
     "output_type": "execute_result"
    }
   ],
   "source": [
    "df.Release_year.unique()"
   ]
  },
  {
   "cell_type": "code",
   "execution_count": 153,
   "metadata": {},
   "outputs": [
    {
     "data": {
      "text/plain": [
       "array(['UA', 'U', 'A', '12+', 'U/A', 'R', '(Banned)', '16', '15+', '7',\n",
       "       'PG', '18', '13', 'PG-13', 'UA 16+', 'G', 'Not Rated'],\n",
       "      dtype=object)"
      ]
     },
     "execution_count": 153,
     "metadata": {},
     "output_type": "execute_result"
    }
   ],
   "source": [
    "df.Certificate.unique()"
   ]
  },
  {
   "cell_type": "code",
   "execution_count": 154,
   "metadata": {},
   "outputs": [
    {
     "data": {
      "text/plain": [
       "array([7.9, 8.4, 7.6, 7.8, 8.2, 6.9, 6.8, 8. , 7.1, 8.3, 7.3, 8.1, 6.1,\n",
       "       7.4, 6.6, 6.4, 9. , 6.2, 5.6, 6.5, 7.7, 8.5, 8.8, 7.5, 6.3, 6.7,\n",
       "       5.5, 5.9, 7. , 7.2, 5.8, 8.6, 8.7, 5.2, 4.9, 4.8, 5.1, 4.2, 5.4,\n",
       "       4.5, 5.7, 6. , 5.3, 4.6, 4.3, 5. , 4. , 9.2, 3.8, 3.4, 8.9])"
      ]
     },
     "execution_count": 154,
     "metadata": {},
     "output_type": "execute_result"
    }
   ],
   "source": [
    "df.Rating.unique()"
   ]
  },
  {
   "cell_type": "code",
   "execution_count": 155,
   "metadata": {},
   "outputs": [
    {
     "data": {
      "text/plain": [
       "array(['Action', 'Drama', 'Animation', 'Adventure', 'Crime', 'Biography',\n",
       "       'Mystery', 'Horror', 'Comedy', 'Documentary', 'Fantasy'],\n",
       "      dtype=object)"
      ]
     },
     "execution_count": 155,
     "metadata": {},
     "output_type": "execute_result"
    }
   ],
   "source": [
    "df.Genre.unique()"
   ]
  },
  {
   "cell_type": "code",
   "execution_count": 156,
   "metadata": {},
   "outputs": [
    {
     "data": {
      "text/plain": [
       "array([ 83.,  78.,  67.,  75.,  80.,  68.,  71.,  59.,  55.,  69.,  64.,\n",
       "        66.,  88.,  85.,  46.,  84.,  51.,  65.,  56.,  62.,  94.,  81.,\n",
       "        42.,  32.,  53.,  92.,  45.,  49.,  77.,  58.,  38.,  50.,  60.,\n",
       "        87.,  90.,  63.,  61.,  73.,  44.,  74.,  76.,  35.,  52.,  82.,\n",
       "        39.,  86.,  72.,  57.,  96.,  40.,  70.,  79.,  54.,  47.,  27.,\n",
       "        48.,  30.,  41.,  95.,  43.,  31.,  91.,  34.,  97.,  33.,  24.,\n",
       "        26.,  20.,  28.,  37.,  89., 100.,  19.,  36.,  23.,  21.,  12.,\n",
       "        25.])"
      ]
     },
     "execution_count": 156,
     "metadata": {},
     "output_type": "execute_result"
    }
   ],
   "source": [
    "df.Metascore.unique()"
   ]
  },
  {
   "cell_type": "code",
   "execution_count": 157,
   "metadata": {},
   "outputs": [
    {
     "data": {
      "text/plain": [
       "array(['James Cameron', 'Anthony Russo, ', 'J.J. Abrams', 'Jon Watts',\n",
       "       'Colin Trevorrow', 'Jon Favreau', 'Joss Whedon', 'James Wan',\n",
       "       'Joseph Kosinski', 'Chris Buck, ', 'Ryan Coogler', 'David Yates',\n",
       "       'Aaron Horvath, ', 'Rian Johnson', 'J.A. Bayona', 'Bill Condon',\n",
       "       'Brad Bird', 'F. Gary Gray', 'Shane Black', 'Kyle Balda, ',\n",
       "       'Peter Jackson', 'Sam Mendes', 'Anna Boden, ', 'Michael Bay',\n",
       "       'Steven Spielberg', 'Christopher Nolan', 'Todd Phillips',\n",
       "       'Josh Cooley', 'Lee Unkrich', 'Gore Verbinski', 'Gareth Edwards',\n",
       "       'Guy Ritchie', 'Rob Marshall', 'Andrew Stanton, ', 'George Lucas',\n",
       "       'Byron Howard, ', 'Tim Burton', 'Chris Columbus', 'Jake Kasdan',\n",
       "       'Pierre Coffin, ', 'Roger Allers, ', 'Sam Raimi',\n",
       "       'Andrew Adamson, ', 'Bryan Singer', 'Mike Newell', 'Chris Renaud',\n",
       "       'Carlos Saldanha, ', 'Steve Martino, ', 'Zack Snyder',\n",
       "       'Francis Lawrence', 'James Gunn', 'Pete Docter, ',\n",
       "       'Ruben Fleischer', 'Taika Waititi', 'Patty Jenkins',\n",
       "       'Roland Emmerich', 'Lee Unkrich, ', 'Chris Miller, ',\n",
       "       'Alfonso Cuarón', 'Joachim Rønning, ', 'Christopher McQuarrie',\n",
       "       'Justin Lin', 'David Leitch', 'Tim Miller', 'Cary Joji Fukunaga',\n",
       "       'Matt Reeves', 'Ron Howard', 'Robert Stromberg', 'Marc Webb',\n",
       "       'Mike Mitchell', 'Eric Darnell, ', 'David Ayer', 'Andrew Adamson',\n",
       "       'Dan Scanlon', 'Lana Wachowski, ', 'Chris Weitz',\n",
       "       'Andy Muschietti', 'David Slade', 'Phyllida Lloyd', 'Gary Ross',\n",
       "       'Louis Leterrier', 'Ron Clements, ', 'Robert Zemeckis',\n",
       "       'Scott Derrickson', 'M. Night Shyamalan', 'Carlos Saldanha',\n",
       "       'Jennifer Yuh Nelson', 'Don Hall, ', 'Barry Sonnenfeld',\n",
       "       'Alan Taylor', 'Garth Jennings, ', 'Mark Osborne, ',\n",
       "       'Ridley Scott', 'Peter Berg', 'Brad Bird, ', 'Peyton Reed',\n",
       "       'Dean DeBlois', 'James Mangold', 'Martin Campbell', 'Mel Gibson',\n",
       "       'Ang Lee', 'Nathan Greno, ', 'Marc Forster', 'Kirk DeMicco, ',\n",
       "       'Joaquim Dos Santos, ', 'Shawn Levy', 'Sam Taylor-Johnson',\n",
       "       'Jordan Vogt-Roberts', 'Raja Gosnell', 'John Lasseter, ',\n",
       "       'Chris Miller', 'Stephen Chow', 'Seth MacFarlane',\n",
       "       'Clint Eastwood', 'John Woo', 'Sicheng Chen', 'Kenneth Branagh',\n",
       "       'Mark Andrews, ', 'Irvin Kershner', 'David Silverman',\n",
       "       'Alejandro G. Iñárritu', 'Jon Turteltaub', 'Phil Johnston, ',\n",
       "       'Genndy Tartakovsky', 'Tom McGrath', 'Yarrow Cheney, ',\n",
       "       'Jay Roach', 'Andrew Stanton', 'Alessandro Carloni, ',\n",
       "       'Andy Serkis', 'Jerry Zucker', 'Wolfgang Petersen',\n",
       "       'Dean DeBlois, ', 'Jan de Bont', 'Joachim Rønning', 'Doug Liman',\n",
       "       'Jonathan Liebesman', 'Tom Shadyac', 'Tom Hooper', 'Rupert Wyatt',\n",
       "       'Joel Crawford, ', 'Richard Marquand', 'Brad Peyton',\n",
       "       'Damien Chazelle', 'Rich Moore', 'Adam Wingard', 'Luc Besson',\n",
       "       'Phil Lord, ', 'Travis Knight', 'Garry Marshall', 'Brett Ratner',\n",
       "       'Brian De Palma', 'Edward Zwick', 'Haruo Sotozaki',\n",
       "       'Steven Soderbergh', 'Rob Letterman', 'Paul Greengrass',\n",
       "       'Stephen Sommers', 'Betty Thomas', 'William Friedkin',\n",
       "       'Duncan Jones', 'Bradley Cooper', 'Michael Gracey',\n",
       "       'Jonathan Mostow', 'Destin Daniel Cretton', 'Lee Tamahori',\n",
       "       'Chris Renaud, ', 'Chad Stahelski', 'Olivier Nakache, ',\n",
       "       'Adil El Arbi, ', 'Quentin Tarantino', 'Gary Trousdale, ',\n",
       "       'Kevin Costner', 'Michael Patrick King', 'Michael Apted',\n",
       "       'Matthew Vaughn', 'Mick Jackson', 'Guillermo del Toro',\n",
       "       'Alex Kurtzman', 'Michael Thurmeier, ', 'Catherine Hardwicke',\n",
       "       'Martin Scorsese', 'Jeff Fowler', 'Robert Rodriguez', 'Rob Cohen',\n",
       "       'Victor Fleming, ', 'Ol Parker', 'Chloé Zhao', 'Denis Villeneuve',\n",
       "       'Rupert Sanders', 'Randal Kleiser', 'John Lasseter',\n",
       "       'Jaume Collet-Serra', 'Kevin Reynolds', 'Len Wiseman',\n",
       "       'Michael Dougherty', 'Tim Johnson', 'George Miller, ',\n",
       "       'Bob Persichetti, ', 'Brian Fee', 'Chris Wedge, ',\n",
       "       'Makoto Shinkai', 'James Foley', 'Rob Letterman, ',\n",
       "       'George Miller', 'Cate Shortland', 'Danny Boyle, ',\n",
       "       'Olivier Megaton', 'Jon M. Chu', 'Bibo Bergeron, ', 'Nancy Meyers',\n",
       "       'Gavin Hood', 'Andy Tennant', 'McG', 'Joe Johnston',\n",
       "       'Bobby Farrelly, ', 'David Fincher', 'Andrew Davis', 'Joel Zwick',\n",
       "       'David F. Sandberg', 'John McTiernan', 'Corin Hardy', 'Tim Hill',\n",
       "       'Roger Michell', 'Raman Hui', 'Darren Aronofsky', 'Harald Zwart',\n",
       "       'Tony Scott', 'Hayao Miyazaki', 'Barry Levinson', 'Baz Luhrmann',\n",
       "       'Alex Proyas', 'Paul Verhoeven', 'Clay Kaytis, ', 'Chuck Russell',\n",
       "       'Will Gluck', 'Eric Leighton, ', 'Mimi Leder', 'Steven Caple Jr.',\n",
       "       'Wes Ball', 'Mike Mitchell, ', 'D.J. Caruso', 'Mike Gabriel, ',\n",
       "       'Timur Bekmambetov', 'Brian Levant', 'John Krasinski',\n",
       "       'Kevin Lima', 'Tim Johnson, ', 'Noam Murro', 'Joel Schumacher',\n",
       "       'Yimou Zhang', 'Sharon Maguire', 'Tim Story', 'Roger Spottiswoode',\n",
       "       'Peter Sohn', 'Peter Faiman', 'David Frankel', 'Paul Tibbitt, ',\n",
       "       'Peter Farrelly', 'Richard Donner', 'Adrian Lyne', 'Anne Fletcher',\n",
       "       'Martin Brest', 'Stephen Chbosky', 'Simon West', 'Mark Dindal',\n",
       "       'James L. Brooks', 'Paul W.S. Anderson', 'Chris McKay',\n",
       "       'Paul Weitz', 'John Lee Hancock', 'Josh Boone', 'Gabriele Muccino',\n",
       "       'Peter Ramsey', 'Paul Feig', 'Rawson Marshall Thurber',\n",
       "       'John Moore', 'Tony Bancroft, ', 'Morten Tyldum',\n",
       "       'Sylvester Stallone', 'Rob Minkoff', 'James Bobin', 'P.J. Hogan',\n",
       "       'Jimmy Hayward, ', 'Robert Schwentke', 'Amy Heckerling',\n",
       "       'Ivan Reitman', 'Simon J. Smith, ', 'Phillip Noyce',\n",
       "       'Hoyt Yeatman', 'Steven S. DeKnight', 'John Madden', 'Neil Burger',\n",
       "       'John Landis', 'David Dobkin', 'Brad Silberling', 'J.B. Rogers',\n",
       "       'Elizabeth Banks', 'Frank Darabont', 'Neill Blomkamp',\n",
       "       'David Soren', 'Paul King', 'Florian Henckel von Donnersmarck',\n",
       "       'Keenen Ivory Wayans', 'Tony Gilroy', 'Michael B. Jordan',\n",
       "       'Roar Uthaug', 'Cody Cameron, ', 'Cameron Crowe', 'Jonathan Demme',\n",
       "       'Dennis Dugan', 'Nicholas Stoller', 'Sydney Pollack',\n",
       "       'Chris Wedge', 'James Algar, ', 'Beeban Kidron', 'Peter Weir',\n",
       "       'Bong Joon Ho', 'Larry Charles', 'Kenny Ortega',\n",
       "       'David Gordon Green', 'Peter Cattaneo', 'Stanley Tong',\n",
       "       'John R. Leonetti', 'Jared Bush, ', 'Jordan Peele', 'Renny Harlin',\n",
       "       'Chris Noonan', 'Walt Becker', 'Simon Kinberg', 'Ethan Coen, ',\n",
       "       'Stephen Gaghan', 'Mel Smith', 'David O. Russell', 'Nora Ephron',\n",
       "       'Stefen Fangmeier', 'Aaron Blaise, ', 'Francis Ford Coppola',\n",
       "       'Pierre Perifel', 'Daniel Myrick, ', 'Richard Curtis', 'Hark Tsui',\n",
       "       'Peter Farrelly, ', 'Steve Martino', 'Dave Green', 'Eric Brevig',\n",
       "       'Rob Reiner', 'Curtis Hanson', 'Sean Anders', 'José Padilha',\n",
       "       'Justin Kurzel', 'Frank Coraci', 'Klay Hall', 'John Cornell',\n",
       "       'Dominic Sena', 'John Badham', 'John Singleton', 'Theodore Melfi',\n",
       "       'Paul Weitz, ', 'Jon Hurwitz, ', 'Craig Gillespie', 'Jesse Dylan',\n",
       "       'Jason Reitman', 'Ben Affleck', 'Steve Bendelack',\n",
       "       'Anthony Minghella', 'Emile Ardolino', 'Gary Dauberman',\n",
       "       'Peter Segal', 'Joe Pytka', 'Roberto Benigni',\n",
       "       'Mark Steven Johnson', 'Michel Gondry', 'Edgar Wright',\n",
       "       'Tarsem Singh', 'Pierre Morel', 'Angus MacLane', 'Tommy Wirkola',\n",
       "       'Gus Van Sant', 'Peter Lord, ', 'Neil Jordan', 'Michael Moore',\n",
       "       'Dean Devlin', 'Alan J. Pakula', 'David Zucker', 'Michael Mann',\n",
       "       'Judd Apatow', 'Tom Vaughan', 'Greta Gerwig', 'Brenda Chapman, ',\n",
       "       'Tony Leondis', 'Parker Finn', 'Gary Shore', 'Tate Taylor',\n",
       "       'Joel Crawford', 'Clyde Geronimi, ', 'Patrick Hughes',\n",
       "       'Karey Kirkpatrick, ', 'Adam Shankman', 'Donald Petrie',\n",
       "       'Jon Amiel', 'Steve Oedekerk', 'Peter Hyams', 'Lewis Gilbert',\n",
       "       'Alejandro Amenábar', 'Seth Gordon', 'Thea Sharrock',\n",
       "       'John Francis Daley, ', 'Daniel Espinosa', 'Clark Johnson',\n",
       "       'Jared Stern, ', 'Henry Joost, ', 'Michael Chaves',\n",
       "       'Wolfgang Reitherman', 'Babak Najafi', 'Stephen Chow, ',\n",
       "       'Robert Luketic', 'Oliver Stone', 'Cathy Yan', 'Lasse Hallström',\n",
       "       'Dean Parisot', 'Ryan Murphy', 'Greg Tiernan, ', 'Antoine Fuqua',\n",
       "       'Baltasar Kormákur', 'Scott Waugh', 'Peter Hewitt', 'Steve Barron',\n",
       "       'Lawrence Guterman', 'Thor Freudenthal', 'Marc Lawrence',\n",
       "       'Kelly Asbury', 'Nick Cassavetes', 'Michael Sucsy', 'Ben Stiller',\n",
       "       'Dexter Fletcher', 'Michael Engler', 'Steve Box, ',\n",
       "       'Phil Alden Robinson', 'Oren Peli', 'Aaron Nee, ', 'John Pasquin',\n",
       "       'Jill Culton, ', 'Rob Bowman', 'Peter MacDonald', 'Jeannot Szwarc',\n",
       "       'Steve McQueen', 'Mark Waters', 'Takashi Shimizu',\n",
       "       'Gorô Taniguchi', 'Robert Redford', 'Steve Trenbirth',\n",
       "       'David R. Ellis', 'Spike Lee', 'Trish Sie', 'Mike Nichols',\n",
       "       'William Cottrell, ', 'Jon Lucas, ', 'Nicholas Stoller, ',\n",
       "       'Steve Carr', 'Penelope Spheeris', 'Randall Wallace',\n",
       "       'Hugh Wilson', 'Jim Abrahams', 'Gerard Johnstone', 'John N. Smith',\n",
       "       'Stephen Norrington', 'Ken Kwapis', 'John Hamburg'], dtype=object)"
      ]
     },
     "execution_count": 157,
     "metadata": {},
     "output_type": "execute_result"
    }
   ],
   "source": [
    "df.Director.unique()"
   ]
  },
  {
   "cell_type": "code",
   "execution_count": 158,
   "metadata": {},
   "outputs": [
    {
     "data": {
      "text/plain": [
       "array(['Sam Worthington, ', 'Robert Downey Jr., ', 'Leonardo DiCaprio, ',\n",
       "       'Daisy Ridley, ', 'Tom Holland, ', 'Chris Pratt, ',\n",
       "       'Donald Glover, ', 'Vin Diesel, ', 'Tom Cruise, ',\n",
       "       'Kristen Bell, ', 'Chadwick Boseman, ', 'Daniel Radcliffe, ',\n",
       "       'Emma Watson, ', 'Craig T. Nelson, ', 'Sandra Bullock, ',\n",
       "       'Chris Evans, ', 'Jason Momoa, ', 'Elijah Wood, ',\n",
       "       'Daniel Craig, ', 'Brie Larson, ', 'Shia LaBeouf, ', 'Sam Neill, ',\n",
       "       'Mark Wahlberg, ', 'Christian Bale, ', 'Joaquin Phoenix, ',\n",
       "       'Tom Hanks, ', 'Johnny Depp, ', 'Felicity Jones, ', 'Will Smith, ',\n",
       "       'Steve Carell, ', 'Ellen DeGeneres, ', 'Ewan McGregor, ',\n",
       "       'Ginnifer Goodwin, ', 'Mia Wasikowska, ', 'Martin Freeman, ',\n",
       "       'Dwayne Johnson, ', 'Matthew Broderick, ', 'Neel Sethi, ',\n",
       "       'Ian McKellen, ', 'Benedict Cumberbatch, ', 'Albert Brooks, ',\n",
       "       'Mike Myers, ', 'Rami Malek, ', 'Tobey Maguire, ', 'Louis C.K., ',\n",
       "       'Ray Romano, ', 'Ben Affleck, ', 'Hayden Christensen, ',\n",
       "       'Jennifer Lawrence, ', 'Letitia Wright, ', 'Amy Poehler, ',\n",
       "       'Tom Hardy, ', 'Chris Hemsworth, ', 'Kristen Stewart, ',\n",
       "       'Gal Gadot, ', 'Anthony Gonzalez, ', 'Eddie Redmayne, ',\n",
       "       'Henry Thomas, ', 'John Cusack, ', 'Harrison Ford, ',\n",
       "       'Ryan Reynolds, ', 'Mark Hamill, ', 'Matthew McConaughey, ',\n",
       "       'Robert Pattinson, ', 'Angelina Jolie, ', 'Andrew Garfield, ',\n",
       "       'Ben Stiller, ', 'Patrick Stewart, ', 'Tilda Swinton, ',\n",
       "       'Billy Crystal, ', 'Keanu Reeves, ', 'Edward Asner, ',\n",
       "       'Gary Oldman, ', 'Bill Skarsgård, ', 'Meryl Streep, ',\n",
       "       \"Auli'i Cravalho, \", 'Bruce Willis, ', 'Henry Cavill, ',\n",
       "       'Jack Black, ', 'Ryan Potter, ', 'Matt Damon, ', 'Brad Garrett, ',\n",
       "       'Paul Rudd, ', 'Jay Baruchel, ', 'Hugh Jackman, ',\n",
       "       'Jeff Goldblum, ', 'Jim Caviezel, ', 'Suraj Sharma, ',\n",
       "       'Tye Sheridan, ', 'Mandy Moore, ', 'Tommy Lee Jones, ',\n",
       "       'Nicolas Cage, ', 'Bradley Cooper, ', 'Shameik Moore, ',\n",
       "       'Dakota Johnson, ', 'Tom Hiddleston, ', 'Hank Azaria, ',\n",
       "       'Owen Wilson, ', 'Naomi Watts, ', 'Antonio Banderas, ',\n",
       "       'Chao Deng, ', 'Dennis Quaid, ', 'Haoran Liu, ', 'James McAvoy, ',\n",
       "       'Lily James, ', 'Chris Rock, ', 'Brad Pitt, ', 'Kelly Macdonald, ',\n",
       "       'Dan Castellaneta, ', 'Jason Statham, ', 'John C. Reilly, ',\n",
       "       'Adam Sandler, ', 'Alec Baldwin, ', 'Fionn Whitehead, ',\n",
       "       'Aaron Taylor-Johnson, ', 'Ben Burtt, ', 'Arnold Schwarzenegger, ',\n",
       "       'Halle Bailey, ', 'Patrick Swayze, ', 'Scott Weinger, ',\n",
       "       'Russell Crowe, ', 'Jesse Eisenberg, ', 'Helen Hunt, ',\n",
       "       'James Franco, ', 'Andy Serkis, ', 'Megan Fox, ', 'Jim Carrey, ',\n",
       "       'Colin Firth, ', 'Macaulay Culkin, ', 'Roy Scheider, ',\n",
       "       'Jessica Chastain, ', 'Ryan Gosling, ', 'Alexander Skarsgård, ',\n",
       "       'Zach Galifianakis, ', 'Scarlett Johansson, ',\n",
       "       'Hailee Steinfeld, ', 'Chris Pine, ', 'Richard Gere, ',\n",
       "       'Gerard Butler, ', 'Natsuki Hanae, ', 'George Clooney, ',\n",
       "       'Tony Goldwyn, ', 'Brendan Fraser, ', 'Jason Lee, ',\n",
       "       'Ellen Burstyn, ', 'Robin Williams, ', 'Travis Fimmel, ',\n",
       "       'Lady Gaga, ', 'Simu Liu, ', 'Pierce Brosnan, ', 'Patton Oswalt, ',\n",
       "       'François Cluzet, ', 'Jamie Foxx, ', \"Paige O'Hara, \",\n",
       "       'Kevin Costner, ', 'Ben Barnes, ', 'Sarah Jessica Parker, ',\n",
       "       'Michael Keaton, ', 'Idris Elba, ', 'Taron Egerton, ',\n",
       "       'Mel Gibson, ', 'James Marsden, ', 'Rosa Salazar, ',\n",
       "       'Noomi Rapace, ', 'Clark Gable, ', 'Gemma Chan, ',\n",
       "       'Timothée Chalamet, ', 'Jeff Bridges, ', 'John Travolta, ',\n",
       "       'Alden Ehrenreich, ', 'Brandon Routh, ', 'Liam Hemsworth, ',\n",
       "       'Kyle Chandler, ', 'Jim Parsons, ', 'Dean-Charles Chapman, ',\n",
       "       'Michael J. Fox, ', 'Denis Leary, ', 'Ryunosuke Kamiki, ',\n",
       "       'Reese Witherspoon, ', 'Dev Patel, ', 'Liam Neeson, ',\n",
       "       'Jamie Bell, ', 'Tom McGrath, ', 'Nicole Kidman, ',\n",
       "       'Cameron Diaz, ', 'Nia Vardalos, ', 'Zachary Levi, ',\n",
       "       'Demián Bichir, ', 'John David Washington, ', 'Hugh Grant, ',\n",
       "       'Kevin Spacey, ', 'Tony Leung Chiu-wai, ', 'Jackie Chan, ',\n",
       "       'Daveigh Chase, ', 'Dustin Hoffman, ', 'Colin Farrell, ',\n",
       "       'Michael Douglas, ', 'Kenneth Branagh, ', 'Jason Sudeikis, ',\n",
       "       'Anthony Hopkins, ', 'James Corden, ', 'D.B. Sweeney, ',\n",
       "       'Emily Blunt, ', 'Robert Duvall, ', 'Anthony Ramos, ',\n",
       "       'Zac Efron, ', \"Dylan O'Brien, \", 'Neil Patrick Harris, ',\n",
       "       'Anna Kendrick, ', 'Justin Long, ', 'John Goodman, ',\n",
       "       'Amy Adams, ', 'Sullivan Stapleton, ', 'Val Kilmer, ',\n",
       "       'Jake Gyllenhaal, ', 'Josh Hutcherson, ', 'Sean Connery, ',\n",
       "       'Renée Zellweger, ', 'Ioan Gruffudd, ', 'Jeffrey Wright, ',\n",
       "       'Channing Tatum, ', 'Bob Hoskins, ', 'Natalie Portman, ',\n",
       "       'Paul Hogan, ', 'Morgan Freeman, ', 'Anne Hathaway, ',\n",
       "       'Demi Moore, ', 'Tom Kenny, ', 'Will Ferrell, ', 'Vera Farmiga, ',\n",
       "       'Viggo Mortensen, ', 'Patrick Wilson, ', 'Ben Schwartz, ',\n",
       "       'Noah Ringer, ', 'Eddie Murphy, ', 'Jacob Tremblay, ',\n",
       "       'Sylvester Stallone, ', 'Zach Braff, ', 'Jack Nicholson, ',\n",
       "       'Milla Jovovich, ', 'Will Arnett, ', 'Julia Roberts, ',\n",
       "       'Quinton Aaron, ', 'Shailene Woodley, ', 'Richard Dreyfuss, ',\n",
       "       'Anthony LaPaglia, ', 'Kristen Wiig, ', 'Ming-Na Wen, ',\n",
       "       'Christopher Reeve, ', 'Bill Murray, ', 'Eva Green, ',\n",
       "       'John Cena, ', 'Jerry Seinfeld, ', 'John Boyega, ',\n",
       "       'Gwyneth Paltrow, ', 'Bill Pullman, ', 'Jason Biggs, ',\n",
       "       'Taylor Kitsch, ', 'Hugh Bonneville, ', 'Anna Faris, ',\n",
       "       'Jeremy Renner, ', 'Ty Burrell, ', 'Matthew Lillard, ',\n",
       "       'Daniel Day-Lewis, ', 'Michael B. Jordan, ', 'Alicia Vikander, ',\n",
       "       'Bill Hader, ', 'Jodie Foster, ', 'Seth Rogen, ',\n",
       "       'Clint Eastwood, ', 'Camilla Belle, ', 'Denzel Washington, ',\n",
       "       'Amanda Seyfried, ', 'Hardie Albright, ', 'Robert Redford, ',\n",
       "       'Edward Norton, ', 'Song Kang-ho, ', 'Sacha Baron Cohen, ',\n",
       "       'Michael Jackson, ', 'Linda Hamilton, ', 'Elle Fanning, ',\n",
       "       'Jamie Lee Curtis, ', 'Drew Barrymore, ', 'Robert Carlyle, ',\n",
       "       'Ward Horton, ', 'Stephanie Beatriz, ', 'Sigourney Weaver, ',\n",
       "       \"Lupita Nyong'o, \", 'Daniel Kaluuya, ', 'James Cromwell, ',\n",
       "       'Tim Allen, ', 'Tate Donovan, ', 'Rowan Atkinson, ',\n",
       "       'Ed Speleers, ', 'Marlon Brando, ', 'Sam Rockwell, ',\n",
       "       'Heather Donahue, ', 'Kris Wu, ', 'Noah Schnapp, ', 'Eric Bana, ',\n",
       "       'Jaden Smith, ', 'Eminem, ', 'Joel Kinnaman, ',\n",
       "       'Michael Fassbender, ', 'Carlos Alazraqui, ', 'Constance Wu, ',\n",
       "       'Chieko Baishô, ', 'Paul Walker, ', 'Taraji P. Henson, ',\n",
       "       'Haley Joel Osment, ', 'Melissa McCarthy, ', 'Emma Stone, ',\n",
       "       'Elliot Page, ', 'Ralph Fiennes, ', 'Whoopi Goldberg, ',\n",
       "       'Michael Jordan, ', 'Roberto Benigni, ', 'Ben Whishaw, ',\n",
       "       'Ansel Elgort, ', 'Logan Lerman, ', 'Dane DeHaan, ',\n",
       "       'Rick Moranis, ', 'Michael Moore, ', 'Ezra Miller, ',\n",
       "       'Saoirse Ronan, ', 'Orlando Bloom, ', 'T.J. Miller, ',\n",
       "       'Sosie Bacon, ', 'Luke Evans, ', 'Hilary Swank, ', 'Viola Davis, ',\n",
       "       'Rod Taylor, ', 'Scott Glenn, ', 'Franka Potente, ',\n",
       "       'Chow Yun-Fat, ', 'Aaron Eckhart, ', 'Jodi Benson, ',\n",
       "       'Sharlto Copley, ', 'Roger Moore, ', 'Jason Bateman, ',\n",
       "       'Emilia Clarke, ', 'Samuel L. Jackson, ', 'Chloe Csengery, ',\n",
       "       'Kate Winslet, ', 'Phil Harris, ', 'Jennifer Aniston, ',\n",
       "       'Zhang Wen, ', 'Katherine Heigl, ', 'Margot Robbie, ',\n",
       "       'Josh Gad, ', 'Cate Blanchett, ', 'Oscar Isaac, ', 'Carrie Coon, ',\n",
       "       'Clive Owen, ', 'Dan Aykroyd, ', 'Jason Clarke, ', 'Aaron Paul, ',\n",
       "       'Breckin Meyer, ', 'Judith Hoag, ', \"O'Shea Jackson Jr., \",\n",
       "       'Jonah Hill, ', 'Ashton Kutcher, ', 'Nicholas Hoult, ',\n",
       "       'Demi Lovato, ', 'Daryl Sabara, ', 'Kurt Russell, ',\n",
       "       'Ray Winstone, ', 'Rachel McAdams, ', 'Sally Hawkins, ',\n",
       "       'Mark Rylance, ', 'Stephen Campbell Moore, ', 'Robert De Niro, ',\n",
       "       'Peter Sallis, ', 'Katie Featherston, ', 'Kotaro Daigo, ',\n",
       "       'Anjelica Huston, ', 'Steve Martin, ', 'Chloe Bennet, ',\n",
       "       'Kevin Bacon, ', 'David Duchovny, ', 'Chiwetel Ejiofor, ',\n",
       "       'Al Pacino, ', 'Sarah Michelle Gellar, ', 'Mayumi Tanaka, ',\n",
       "       'Nick Zano, ', 'Asa Butterfield, ', 'Jackie Earle Haley, ',\n",
       "       'Adriana Caselotti, ', 'Russell Brand, ', 'Mila Kunis, ',\n",
       "       'Andy Samberg, ', 'Kevin James, ', 'Lily Collins, ',\n",
       "       'Goldie Hawn, ', 'Freddie Prinze Jr., ', 'Charlie Sheen, ',\n",
       "       'Uma Thurman, ', 'Allison Williams, ', 'Michelle Pfeiffer, '],\n",
       "      dtype=object)"
      ]
     },
     "execution_count": 158,
     "metadata": {},
     "output_type": "execute_result"
    }
   ],
   "source": [
    "df.Stars.unique()"
   ]
  },
  {
   "cell_type": "code",
   "execution_count": 160,
   "metadata": {},
   "outputs": [
    {
     "data": {
      "text/plain": [
       "array([162, 181, 192, 194, 138, 149, 148, 124, 118, 143, 137, 130, 103,\n",
       "       141, 134,  92, 152, 128, 102, 129, 136,  91, 147, 201, 123, 154,\n",
       "       127, 165, 164, 122, 100, 151, 133,  89,  97, 108, 169, 119, 146,\n",
       "        98,  88, 106, 144, 161, 126, 179,  87, 153,  93, 178, 157, 139,\n",
       "        94, 140,  95, 112, 115, 150, 121, 145, 105, 132, 142, 158, 163,\n",
       "       176, 104,  96, 117, 135, 131, 107,  90, 120, 111, 116, 101, 125,\n",
       "       187,  86, 156, 113,  85, 155, 114, 110, 183, 109,  84, 180, 238,\n",
       "        81,  82,  83, 166, 195,  99, 159, 189,  69, 175,  79, 170,  78,\n",
       "        80, 167,  72], dtype=int64)"
      ]
     },
     "execution_count": 160,
     "metadata": {},
     "output_type": "execute_result"
    }
   ],
   "source": [
    "df[\"Run_Time(min)\"].unique()"
   ]
  },
  {
   "cell_type": "code",
   "execution_count": 161,
   "metadata": {},
   "outputs": [
    {
     "data": {
      "text/html": [
       "<div>\n",
       "<style scoped>\n",
       "    .dataframe tbody tr th:only-of-type {\n",
       "        vertical-align: middle;\n",
       "    }\n",
       "\n",
       "    .dataframe tbody tr th {\n",
       "        vertical-align: top;\n",
       "    }\n",
       "\n",
       "    .dataframe thead th {\n",
       "        text-align: right;\n",
       "    }\n",
       "</style>\n",
       "<table border=\"1\" class=\"dataframe\">\n",
       "  <thead>\n",
       "    <tr style=\"text-align: right;\">\n",
       "      <th></th>\n",
       "      <th>Title</th>\n",
       "      <th>Release_year</th>\n",
       "      <th>Certificate</th>\n",
       "      <th>Rating</th>\n",
       "      <th>Genre</th>\n",
       "      <th>Metascore</th>\n",
       "      <th>Director</th>\n",
       "      <th>Stars</th>\n",
       "      <th>No_Votes</th>\n",
       "      <th>Gross($)</th>\n",
       "      <th>Run_Time(min)</th>\n",
       "    </tr>\n",
       "  </thead>\n",
       "  <tbody>\n",
       "    <tr>\n",
       "      <td>0</td>\n",
       "      <td>Avatar</td>\n",
       "      <td>2009</td>\n",
       "      <td>UA</td>\n",
       "      <td>7.9</td>\n",
       "      <td>Action</td>\n",
       "      <td>83.0</td>\n",
       "      <td>James Cameron</td>\n",
       "      <td>Sam Worthington,</td>\n",
       "      <td>1358528</td>\n",
       "      <td>2923706026</td>\n",
       "      <td>162</td>\n",
       "    </tr>\n",
       "    <tr>\n",
       "      <td>1</td>\n",
       "      <td>Avengers: Endgame</td>\n",
       "      <td>2019</td>\n",
       "      <td>UA</td>\n",
       "      <td>8.4</td>\n",
       "      <td>Action</td>\n",
       "      <td>78.0</td>\n",
       "      <td>Anthony Russo,</td>\n",
       "      <td>Robert Downey Jr.,</td>\n",
       "      <td>1208382</td>\n",
       "      <td>2799439100</td>\n",
       "      <td>181</td>\n",
       "    </tr>\n",
       "    <tr>\n",
       "      <td>2</td>\n",
       "      <td>Avatar: The Way of Water</td>\n",
       "      <td>2022</td>\n",
       "      <td>UA</td>\n",
       "      <td>7.6</td>\n",
       "      <td>Action</td>\n",
       "      <td>67.0</td>\n",
       "      <td>James Cameron</td>\n",
       "      <td>Sam Worthington,</td>\n",
       "      <td>452123</td>\n",
       "      <td>2320250281</td>\n",
       "      <td>192</td>\n",
       "    </tr>\n",
       "    <tr>\n",
       "      <td>3</td>\n",
       "      <td>Titanic</td>\n",
       "      <td>1997</td>\n",
       "      <td>UA</td>\n",
       "      <td>7.9</td>\n",
       "      <td>Drama</td>\n",
       "      <td>75.0</td>\n",
       "      <td>James Cameron</td>\n",
       "      <td>Leonardo DiCaprio,</td>\n",
       "      <td>1243407</td>\n",
       "      <td>2264743305</td>\n",
       "      <td>194</td>\n",
       "    </tr>\n",
       "    <tr>\n",
       "      <td>4</td>\n",
       "      <td>Star Wars: Episode VII - The Force Awakens</td>\n",
       "      <td>2015</td>\n",
       "      <td>U</td>\n",
       "      <td>7.8</td>\n",
       "      <td>Action</td>\n",
       "      <td>80.0</td>\n",
       "      <td>J.J. Abrams</td>\n",
       "      <td>Daisy Ridley,</td>\n",
       "      <td>954781</td>\n",
       "      <td>2071310218</td>\n",
       "      <td>138</td>\n",
       "    </tr>\n",
       "    <tr>\n",
       "      <td>...</td>\n",
       "      <td>...</td>\n",
       "      <td>...</td>\n",
       "      <td>...</td>\n",
       "      <td>...</td>\n",
       "      <td>...</td>\n",
       "      <td>...</td>\n",
       "      <td>...</td>\n",
       "      <td>...</td>\n",
       "      <td>...</td>\n",
       "      <td>...</td>\n",
       "      <td>...</td>\n",
       "    </tr>\n",
       "    <tr>\n",
       "      <td>994</td>\n",
       "      <td>Allegiant</td>\n",
       "      <td>2016</td>\n",
       "      <td>13</td>\n",
       "      <td>5.7</td>\n",
       "      <td>Action</td>\n",
       "      <td>33.0</td>\n",
       "      <td>Robert Schwentke</td>\n",
       "      <td>Shailene Woodley,</td>\n",
       "      <td>129090</td>\n",
       "      <td>179246868</td>\n",
       "      <td>120</td>\n",
       "    </tr>\n",
       "    <tr>\n",
       "      <td>995</td>\n",
       "      <td>Daredevil</td>\n",
       "      <td>2003</td>\n",
       "      <td>UA</td>\n",
       "      <td>5.3</td>\n",
       "      <td>Action</td>\n",
       "      <td>42.0</td>\n",
       "      <td>Mark Steven Johnson</td>\n",
       "      <td>Ben Affleck,</td>\n",
       "      <td>225522</td>\n",
       "      <td>179179718</td>\n",
       "      <td>103</td>\n",
       "    </tr>\n",
       "    <tr>\n",
       "      <td>997</td>\n",
       "      <td>He's Just Not That Into You</td>\n",
       "      <td>2009</td>\n",
       "      <td>13</td>\n",
       "      <td>6.4</td>\n",
       "      <td>Comedy</td>\n",
       "      <td>47.0</td>\n",
       "      <td>Ken Kwapis</td>\n",
       "      <td>Ginnifer Goodwin,</td>\n",
       "      <td>179069</td>\n",
       "      <td>178866158</td>\n",
       "      <td>129</td>\n",
       "    </tr>\n",
       "    <tr>\n",
       "      <td>998</td>\n",
       "      <td>Eagle Eye</td>\n",
       "      <td>2008</td>\n",
       "      <td>A</td>\n",
       "      <td>6.6</td>\n",
       "      <td>Action</td>\n",
       "      <td>43.0</td>\n",
       "      <td>D.J. Caruso</td>\n",
       "      <td>Shia LaBeouf,</td>\n",
       "      <td>192304</td>\n",
       "      <td>178767383</td>\n",
       "      <td>118</td>\n",
       "    </tr>\n",
       "    <tr>\n",
       "      <td>999</td>\n",
       "      <td>Along Came Polly</td>\n",
       "      <td>2004</td>\n",
       "      <td>UA</td>\n",
       "      <td>6.0</td>\n",
       "      <td>Comedy</td>\n",
       "      <td>44.0</td>\n",
       "      <td>John Hamburg</td>\n",
       "      <td>Ben Stiller,</td>\n",
       "      <td>141094</td>\n",
       "      <td>178311729</td>\n",
       "      <td>90</td>\n",
       "    </tr>\n",
       "  </tbody>\n",
       "</table>\n",
       "<p>943 rows × 11 columns</p>\n",
       "</div>"
      ],
      "text/plain": [
       "                                          Title  Release_year Certificate  \\\n",
       "0                                        Avatar          2009          UA   \n",
       "1                             Avengers: Endgame          2019          UA   \n",
       "2                      Avatar: The Way of Water          2022          UA   \n",
       "3                                       Titanic          1997          UA   \n",
       "4    Star Wars: Episode VII - The Force Awakens          2015           U   \n",
       "..                                          ...           ...         ...   \n",
       "994                                   Allegiant          2016          13   \n",
       "995                                   Daredevil          2003          UA   \n",
       "997                 He's Just Not That Into You          2009          13   \n",
       "998                                   Eagle Eye          2008           A   \n",
       "999                            Along Came Polly          2004          UA   \n",
       "\n",
       "     Rating   Genre  Metascore             Director                Stars  \\\n",
       "0       7.9  Action       83.0        James Cameron    Sam Worthington,    \n",
       "1       8.4  Action       78.0      Anthony Russo,   Robert Downey Jr.,    \n",
       "2       7.6  Action       67.0        James Cameron    Sam Worthington,    \n",
       "3       7.9   Drama       75.0        James Cameron  Leonardo DiCaprio,    \n",
       "4       7.8  Action       80.0          J.J. Abrams       Daisy Ridley,    \n",
       "..      ...     ...        ...                  ...                  ...   \n",
       "994     5.7  Action       33.0     Robert Schwentke   Shailene Woodley,    \n",
       "995     5.3  Action       42.0  Mark Steven Johnson        Ben Affleck,    \n",
       "997     6.4  Comedy       47.0           Ken Kwapis   Ginnifer Goodwin,    \n",
       "998     6.6  Action       43.0          D.J. Caruso       Shia LaBeouf,    \n",
       "999     6.0  Comedy       44.0         John Hamburg        Ben Stiller,    \n",
       "\n",
       "     No_Votes    Gross($)  Run_Time(min)  \n",
       "0     1358528  2923706026            162  \n",
       "1     1208382  2799439100            181  \n",
       "2      452123  2320250281            192  \n",
       "3     1243407  2264743305            194  \n",
       "4      954781  2071310218            138  \n",
       "..        ...         ...            ...  \n",
       "994    129090   179246868            120  \n",
       "995    225522   179179718            103  \n",
       "997    179069   178866158            129  \n",
       "998    192304   178767383            118  \n",
       "999    141094   178311729             90  \n",
       "\n",
       "[943 rows x 11 columns]"
      ]
     },
     "execution_count": 161,
     "metadata": {},
     "output_type": "execute_result"
    }
   ],
   "source": [
    "df"
   ]
  },
  {
   "cell_type": "code",
   "execution_count": null,
   "metadata": {},
   "outputs": [],
   "source": []
  }
 ],
 "metadata": {
  "kernelspec": {
   "display_name": "Python 3",
   "language": "python",
   "name": "python3"
  },
  "language_info": {
   "codemirror_mode": {
    "name": "ipython",
    "version": 3
   },
   "file_extension": ".py",
   "mimetype": "text/x-python",
   "name": "python",
   "nbconvert_exporter": "python",
   "pygments_lexer": "ipython3",
   "version": "3.7.4"
  }
 },
 "nbformat": 4,
 "nbformat_minor": 2
}
